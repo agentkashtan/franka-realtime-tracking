{
 "cells": [
  {
   "cell_type": "code",
   "execution_count": 52,
   "id": "9091857c",
   "metadata": {},
   "outputs": [],
   "source": [
    "import os\n",
    "import numpy as np\n",
    "from datetime import datetime\n",
    "\n",
    "def parse_timestamp(ts_str):\n",
    "    return datetime.fromtimestamp(int(ts_str) / 1000.0)\n",
    "\n",
    "def parse_measurements(exp_hash, run_number, log_dir='.'):\n",
    "    path = os.path.join(log_dir, f\"{exp_hash}_measurements_{run_number}.log\")\n",
    "    parsed = []\n",
    "    with open(path, 'r') as f:\n",
    "        for line in f:\n",
    "            parts = line.strip().split()\n",
    "            if len(parts) != 17:\n",
    "                continue\n",
    "            ts = parse_timestamp(parts[0])\n",
    "            matrix = np.array(list(map(float, parts[1:])), dtype=np.float32).reshape(4, 4)\n",
    "            parsed.append({'timestamp': ts, 'data': matrix})\n",
    "    return parsed\n",
    "\n",
    "def parse_robotstate(exp_hash, run_number, log_dir='.'):\n",
    "    path = os.path.join(log_dir, f\"{exp_hash}_robotstate_{run_number}.log\")\n",
    "    parsed = []\n",
    "    with open(path, 'r') as f:\n",
    "        for line in f:\n",
    "            parts = line.strip().split()\n",
    "            if len(parts) != 25:\n",
    "                continue\n",
    "            ts = parse_timestamp(parts[0])\n",
    "            pose_matrix = np.array(list(map(float, parts[1:17]))).reshape(4, 4)\n",
    "            joint_config = list(map(float, parts[17:24]))\n",
    "            state = float(parts[24])\n",
    "            parsed.append({\n",
    "                'timestamp': ts,\n",
    "                'data': pose_matrix,\n",
    "                'joints': joint_config,\n",
    "                'state': state\n",
    "            })\n",
    "    return parsed\n",
    "\n",
    "def parse_kalmanfilter(exp_hash, run_number, log_dir='.'):\n",
    "    path = os.path.join(log_dir, f\"{exp_hash}_kalmanfilter_{run_number}.log\")\n",
    "    parsed = []\n",
    "    with open(path, 'r') as f:\n",
    "        for line in f:\n",
    "            parts = line.strip().split()\n",
    "            if len(parts) != 7:\n",
    "                continue\n",
    "            ts = parse_timestamp(parts[0])\n",
    "            position = list(map(float, parts[1:4]))\n",
    "            velocity = list(map(float, parts[4:7]))\n",
    "            parsed.append({'timestamp': ts, 'position': position, 'velocity': velocity})\n",
    "    return parsed\n",
    "\n",
    "def parse_controller_input(exp_hash, run_number, log_dir='.'):\n",
    "    path = os.path.join(log_dir, f\"{exp_hash}_controllerinput_{run_number}.log\")\n",
    "    parsed = []\n",
    "    with open(path, 'r') as f:\n",
    "        for line in f:\n",
    "            parts = line.strip().split()\n",
    "            if len(parts) != 17:\n",
    "                continue\n",
    "            ts = parse_timestamp(parts[0])\n",
    "            matrix = np.array(list(map(float, parts[1:])), dtype=np.float32).reshape(4, 4)\n",
    "            parsed.append({'timestamp': ts, 'data': matrix})\n",
    "    return parsed\n",
    "\n",
    "def parse_filtered_position(exp_hash, run_number, log_dir='.'):\n",
    "    path = os.path.join(log_dir, f\"{exp_hash}_filteredposition_{run_number}.log\")\n",
    "    parsed = []\n",
    "    with open(path, 'r') as f:\n",
    "        for line in f:\n",
    "            parts = line.strip().split()\n",
    "            if len(parts) != 4:\n",
    "                continue\n",
    "            ts = parse_timestamp(parts[0])\n",
    "            position = list(map(float, parts[1:4]))\n",
    "            parsed.append({'timestamp': ts, 'position': position})\n",
    "    return parsed\n"
   ]
  },
  {
   "cell_type": "code",
   "execution_count": 53,
   "id": "7625d754",
   "metadata": {},
   "outputs": [],
   "source": [
    "\n",
    "exp_hash = '#1'\n",
    "run_number = 1\n",
    "log_dir = '/dev/shm/experiment'\n",
    "\n",
    "measurements = parse_measurements(exp_hash, run_number, log_dir)\n",
    "robotstate = parse_robotstate(exp_hash, run_number, log_dir)\n",
    "kalman = parse_kalmanfilter(exp_hash, run_number, log_dir)\n",
    "controller = parse_controller_input(exp_hash, run_number, log_dir)\n",
    "filtered = parse_filtered_position(exp_hash, run_number, log_dir)\n",
    "\n"
   ]
  },
  {
   "cell_type": "code",
   "execution_count": 54,
   "id": "6d5cb4e9",
   "metadata": {},
   "outputs": [],
   "source": [
    "import matplotlib.pyplot as plt\n",
    "\n",
    "def plot_position_comparison(axis, robotstate, measurements, kalman, controller_input, visibility=[1, 1, 1, 1], time_range=None):\n",
    "    axis_map = {'x': 0, 'y': 1, 'z': 2}\n",
    "    if axis not in axis_map:\n",
    "        raise ValueError(\"axis must be one of 'x', 'y', 'z'\")\n",
    "    idx = axis_map[axis]\n",
    "\n",
    "    plt.figure(figsize=(10, 6))\n",
    "\n",
    "    if visibility[0]:\n",
    "        rs_time = [entry['timestamp'] for entry in robotstate]\n",
    "        rs_pos = [entry['data'][:3, 3][idx] for entry in robotstate]\n",
    "        plt.scatter(rs_time, rs_pos, label='Robot State', s=1)\n",
    "\n",
    "    if visibility[1]:\n",
    "        meas_time = [entry['timestamp'] for entry in measurements]\n",
    "        meas_pos = [entry['data'][:3, 3][idx] for entry in measurements]\n",
    "        plt.scatter(meas_time, meas_pos, label='Measurements', s=1)\n",
    "\n",
    "    if visibility[2]:\n",
    "        kf_time = [entry['timestamp'] for entry in kalman]\n",
    "        kf_pos = [entry['position'][idx] for entry in kalman]\n",
    "        plt.scatter(kf_time, kf_pos, label='Kalman Filter', s=1)\n",
    "\n",
    "    if visibility[3]:\n",
    "        ctrl_time = [entry['timestamp'] for entry in controller_input]\n",
    "        ctrl_pos = [entry['data'][:3, 3][idx] for entry in controller_input]\n",
    "        plt.scatter(ctrl_time, ctrl_pos, label='Controller Input', s=1)\n",
    "\n",
    "    plt.title(f\"{axis.upper()} Position Comparison Over Time\")\n",
    "    plt.xlabel(\"Time\")\n",
    "    plt.ylabel(f\"{axis.upper()} Position (m)\")\n",
    "    plt.legend()\n",
    "    plt.grid(True)\n",
    "    if time_range and len(time_range) == 2:\n",
    "        plt.xlim(time_range[0], time_range[1])\n",
    "    plt.tight_layout()\n",
    "    plt.show()"
   ]
  },
  {
   "cell_type": "code",
   "execution_count": 59,
   "id": "77efb515",
   "metadata": {},
   "outputs": [
    {
     "data": {
      "image/png": "[encoded data removed]",
      "text/plain": [
       "<Figure size 1000x600 with 1 Axes>"
      ]
     },
     "metadata": {},
     "output_type": "display_data"
    }
   ],
   "source": [
    "from datetime import datetime\n",
    "\n",
    "visibility = [1, 1, 1, 1]\n",
    "time_range = [datetime(2024, 5, 30, 10, 0, 0), datetime(2024, 5, 30, 10, 5, 0)]\n",
    "\n",
    "plot_position_comparison('x', robotstate, measurements, kalman, controller, visibility)\n"
   ]
  },
  {
   "cell_type": "code",
   "execution_count": 43,
   "id": "06b1e8a2",
   "metadata": {},
   "outputs": [
    {
     "name": "stdout",
     "output_type": "stream",
     "text": [
      "2025-05-30 17:52:27.403000 [[ 0.282562  -0.959124  -0.0148758  0.552308 ]\n",
      " [-0.958226  -0.281518  -0.0503102 -0.485518 ]\n",
      " [ 0.0440669  0.0284711 -0.998623   0.170509 ]\n",
      " [ 0.         0.         0.         1.       ]]\n",
      "2025-05-30 17:52:27.404000 [[ 0.282562  -0.959124  -0.0148758  0.552304 ]\n",
      " [-0.958226  -0.281518  -0.0503102 -0.485522 ]\n",
      " [ 0.0440669  0.0284711 -0.998623   0.170499 ]\n",
      " [ 0.         0.         0.         1.       ]]\n",
      "2025-05-30 17:52:27.404000 [[ 0.282562  -0.959124  -0.0148758  0.552301 ]\n",
      " [-0.958226  -0.281518  -0.0503102 -0.485526 ]\n",
      " [ 0.0440669  0.0284711 -0.998623   0.170489 ]\n",
      " [ 0.         0.         0.         1.       ]]\n",
      "2025-05-30 17:52:27.406000 [[ 0.282562  -0.959124  -0.0148758  0.552299 ]\n",
      " [-0.958226  -0.281518  -0.0503102 -0.48553  ]\n",
      " [ 0.0440669  0.0284711 -0.998623   0.170479 ]\n",
      " [ 0.         0.         0.         1.       ]]\n",
      "2025-05-30 17:52:27.407000 [[ 0.282562  -0.959124  -0.0148758  0.552297 ]\n",
      " [-0.958226  -0.281518  -0.0503102 -0.485534 ]\n",
      " [ 0.0440669  0.0284711 -0.998623   0.170469 ]\n",
      " [ 0.         0.         0.         1.       ]]\n"
     ]
    }
   ],
   "source": [
    "for i in range(min(5, len(controller))):\n",
    "    print(controller[i]['timestamp'], controller[i]['data'])"
   ]
  },
  {
   "cell_type": "code",
   "execution_count": 44,
   "id": "21b4f8d0",
   "metadata": {},
   "outputs": [
    {
     "name": "stdout",
     "output_type": "stream",
     "text": [
      "Parsed 2098 controller input entries.\n"
     ]
    }
   ],
   "source": [
    "print(f\"Parsed {len(controller)} controller input entries.\")\n"
   ]
  },
  {
   "cell_type": "code",
   "execution_count": 45,
   "id": "d2486ad8",
   "metadata": {},
   "outputs": [],
   "source": [
    "controller = parse_controller_input(exp_hash, run_number, log_dir)\n"
   ]
  },
  {
   "cell_type": "code",
   "execution_count": 51,
   "id": "2e73ea23",
   "metadata": {},
   "outputs": [
    {
     "data": {
      "text/plain": [
       "13026"
      ]
     },
     "execution_count": 51,
     "metadata": {},
     "output_type": "execute_result"
    }
   ],
   "source": [
    "len(robotstate)"
   ]
  },
  {
   "cell_type": "code",
   "execution_count": null,
   "id": "8a1868f3",
   "metadata": {},
   "outputs": [],
   "source": []
  }
 ],
 "metadata": {
  "kernelspec": {
   "display_name": "Python 3 (ipykernel)",
   "language": "python",
   "name": "python3"
  },
  "language_info": {
   "codemirror_mode": {
    "name": "ipython",
    "version": 3
   },
   "file_extension": ".py",
   "mimetype": "text/x-python",
   "name": "python",
   "nbconvert_exporter": "python",
   "pygments_lexer": "ipython3",
   "version": "3.12.3"
  }
 },
 "nbformat": 4,
 "nbformat_minor": 5
}
